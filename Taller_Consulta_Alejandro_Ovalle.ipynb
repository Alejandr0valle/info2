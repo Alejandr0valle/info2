{
  "nbformat": 4,
  "nbformat_minor": 0,
  "metadata": {
    "colab": {
      "provenance": [],
      "authorship_tag": "ABX9TyM6UXPrdnZrw1N22MFwlwZC",
      "include_colab_link": true
    },
    "kernelspec": {
      "name": "python3",
      "display_name": "Python 3"
    },
    "language_info": {
      "name": "python"
    }
  },
  "cells": [
    {
      "cell_type": "markdown",
      "metadata": {
        "id": "view-in-github",
        "colab_type": "text"
      },
      "source": [
        "<a href=\"https://colab.research.google.com/github/Alejandr0valle/info2/blob/main/Taller_Consulta_Alejandro_Ovalle.ipynb\" target=\"_parent\"><img src=\"https://colab.research.google.com/assets/colab-badge.svg\" alt=\"Open In Colab\"/></a>"
      ]
    },
    {
      "cell_type": "code",
      "execution_count": 21,
      "metadata": {
        "colab": {
          "base_uri": "https://localhost:8080/"
        },
        "id": "MMoMIh3QykPf",
        "outputId": "e6e57668-1f96-4a79-fdab-ada7c12168c2"
      },
      "outputs": [
        {
          "output_type": "stream",
          "name": "stdout",
          "text": [
            "Alejandro Estudiante 0\n",
            "0\n"
          ]
        }
      ],
      "source": [
        "#Abstracción:\n",
        "#Es una herramienta que nos permite crear una clase de cualquier cosa en general, para luego poder separar en subclases que son mas especificas en donde\n",
        "#hay caracteristicas especificas que describen las subclases, estos los llamamos metodos y atributos.\n",
        "\n",
        "#Ejemplo\n",
        "class Persona:\n",
        "  def __init__(self, nombre, ocupacion, documento):\n",
        "    self.nombre = nombre\n",
        "    self.ocupacion = ocupacion\n",
        "    self.documento = 0\n",
        "\n",
        "  def verInformacion(self):\n",
        "    print(self.nombre, self.ocupacion , self.documento)\n",
        "\n",
        "\n",
        "class Estudiante(Persona):\n",
        "  def __init__(self, nombre, carrera, documento):\n",
        "    Persona.__init__(self, nombre, carrera , documento )\n",
        "\n",
        "e = Estudiante(\"Alejandro\",\"Estudiante\" , 1231)\n",
        "e.verInformacion()\n",
        "print(e.documento)\n",
        "\n",
        "#Esto lo podemos aplicar en diferentes areas ya sea para definir las funciones de un grupo selecto de personas, como también las de una persona en\n",
        "#especifico\n",
        "\n",
        "#https://styde.net/abstraccion-programacion-orientada-a-objetos/\n",
        "\n",
        "\n",
        "\n",
        "\n",
        "\n",
        "\n",
        "\n",
        "#Un ejemplo del encapsulamiento podría ser una cuenta de banco, donde el usuario no puede simplemente aumentar su balance de dinero, \n",
        "#si no que debe depender de unos métodos previamente validados para aumentar dicho balance (depósitos, transferencias, etc).\n",
        "\n",
        "#Herencia: Nos permite crear nuevas clases a partir de otras. Si tuviéramos una clase “Autos” y quisiéramos crear unas clases \n",
        "#“Auto deportivo” o “Auto clásico”, podríamos tomar varias propiedades y métodos de la clase “Autos”. Esto nos da una jerarquía de padre e hijo.\n",
        "\n",
        "#Polimorfismo: Proviene de Poli = muchas, morfismo = formas. Se utiliza para crear métodos con el mismo nombre pero con diferente comportamiento.\n",
        "\n",
        "\n",
        "\n"
      ]
    },
    {
      "cell_type": "code",
      "source": [
        "#Encapsulamiento:\n",
        "#Esto nos ayuda a regular el acceso a los metodos y atributos de las clases que se vana  definir ya sea para modificar o verlos sencillamente, \n",
        "#es decir que privatizar la complejidad de una clase esto nos puede ayudar a ocultar informacion relevante. \n",
        "\n",
        "\n",
        "class Persona:\n",
        "  def __init__(self, nombre, ocupacion):\n",
        "    self._nombre = nombre\n",
        "    self.ocupacion = ocupacion\n",
        "    self._documento = 121312352\n",
        "\n",
        "  def verInformacion(self):\n",
        "    print(self._nombre, self.ocupacion , self._documento)\n",
        "\n",
        "\n",
        "class Estudiante(Persona):\n",
        "  def __init__(self, nombre, carrera, documento):\n",
        "    Persona.__init__(self, nombre, carrera)\n",
        "\n",
        "e = Estudiante(\"Alejandro\",\"Estudiante\" , 1231)\n",
        "e.verInformacion()\n",
        "print(e._documento)\n"
      ],
      "metadata": {
        "colab": {
          "base_uri": "https://localhost:8080/"
        },
        "id": "4Hzfm8hLVjsf",
        "outputId": "36f81cef-626a-4eb3-91bd-05ecea6d244f"
      },
      "execution_count": 25,
      "outputs": [
        {
          "output_type": "stream",
          "name": "stdout",
          "text": [
            "Alejandro Estudiante 121312352\n",
            "121312352\n"
          ]
        }
      ]
    }
  ]
}