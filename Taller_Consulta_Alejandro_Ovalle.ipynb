{
  "nbformat": 4,
  "nbformat_minor": 0,
  "metadata": {
    "colab": {
      "provenance": [],
      "authorship_tag": "ABX9TyP++UOHl7jZpocjdo97e6u+",
      "include_colab_link": true
    },
    "kernelspec": {
      "name": "python3",
      "display_name": "Python 3"
    },
    "language_info": {
      "name": "python"
    }
  },
  "cells": [
    {
      "cell_type": "markdown",
      "metadata": {
        "id": "view-in-github",
        "colab_type": "text"
      },
      "source": [
        "<a href=\"https://colab.research.google.com/github/Alejandr0valle/info2/blob/main/Taller_Consulta_Alejandro_Ovalle.ipynb\" target=\"_parent\"><img src=\"https://colab.research.google.com/assets/colab-badge.svg\" alt=\"Open In Colab\"/></a>"
      ]
    },
    {
      "cell_type": "code",
      "execution_count": 18,
      "metadata": {
        "colab": {
          "base_uri": "https://localhost:8080/"
        },
        "id": "MMoMIh3QykPf",
        "outputId": "030dc193-d9af-493f-bc16-746fa4dab498"
      },
      "outputs": [
        {
          "output_type": "stream",
          "name": "stdout",
          "text": [
            "Alejandro Estudiante 1216722460\n"
          ]
        }
      ],
      "source": [
        "#Abstracción:\n",
        "#Es una herramienta que nos permite crear una clase de cualquier cosa en general, para luego poder separar en subclases que son mas especificas en donde\n",
        "#hay caracteristicas especificas que describen las subclases, estos los llamamos metodos y atributos.\n",
        "\n",
        "#Ejemplo\n",
        "class Persona:\n",
        "  def __init__(self, nombre, ocupacion, documento):\n",
        "    self.nombre = nombre\n",
        "    self.ocupacion = ocupacion\n",
        "    self.documento = int(documento)\n",
        "\n",
        "  def verInformacion(self):\n",
        "    print(self.nombre, self.ocupacion , self.documento)\n",
        "\n",
        "\n",
        "class Estudiante(Persona):\n",
        "  def __init__(self, nombre, carrera, documento):\n",
        "    Persona.__init__(self, nombre, carrera , documento )\n",
        "\n",
        "e = Estudiante(\"Alejandro\",\"Estudiante\" , 1216722460)\n",
        "e.verInformacion()\n",
        "\n",
        "\n",
        "#Esto lo podemos aplicar en diferentes areas ya sea para definir las funciones de un grupo selecto de personas, como también las de una persona en\n",
        "#especifico\n",
        "\n",
        "#https://styde.net/abstraccion-programacion-orientada-a-objetos/\n",
        "\n",
        "\n",
        "\n",
        "\n",
        "\n",
        "\n",
        "\n",
        "\n",
        "#Herencia: Nos permite crear nuevas clases a partir de otras. Si tuviéramos una clase “Autos” y quisiéramos crear unas clases \n",
        "#“Auto deportivo” o “Auto clásico”, podríamos tomar varias propiedades y métodos de la clase “Autos”. Esto nos da una jerarquía de padre e hijo.\n",
        "\n",
        "\n",
        "\n",
        "\n"
      ]
    },
    {
      "cell_type": "code",
      "source": [
        "#Encapsulamiento:\n",
        "#Esto nos ayuda a regular el acceso a los metodos y atributos de las clases que se vana  definir ya sea para modificar o verlos sencillamente, \n",
        "#es decir que privatizar la complejidad de una clase esto nos puede ayudar a ocultar informacion relevante. Para aplicar esta herramiento se\n",
        "#usa 1 solo guion bajo que es para proteger y 2 guiones bajor que es para colocar privado\n",
        "\n",
        "\n",
        "class Persona:\n",
        "  def __init__(self, nombre, ocupacion, documento):\n",
        "    self.nombre = nombre\n",
        "    self.ocupacion = ocupacion\n",
        "    self.__documento = int(documento)\n",
        "\n",
        "  def verInformacion(self):\n",
        "    print(self.nombre, self.ocupacion , self.__documento)\n",
        "\n",
        "  def verDocumento(self):\n",
        "    return self.__documento \n",
        "\n",
        "\n",
        "class Estudiante(Persona):\n",
        "  def __init__(self, nombre, carrera, documento):\n",
        "    Persona.__init__(self, nombre, carrera , documento )\n",
        "\n",
        "e = Estudiante(\"Alejandro\",\"Estudiante\" , 1216722460)\n",
        "print(e.verDocumento)\n",
        "\n",
        "#Como en este caso podemos ver cuando hacemos un print para ver el documento y al estar esta variable protegida nos saldra un error. Pero\n",
        "#si creamos otra funcion para llamar el documento privado nos permite verla\n",
        "\n",
        "#https://docs.hektorprofe.net/python/programacion-orientada-a-objetos/encapsulacion/#:~:text=La%20encapsulaci%C3%B3n%20consiste%20en%20denegar,indicando%20que%20son%20%22especiales%22."
      ],
      "metadata": {
        "colab": {
          "base_uri": "https://localhost:8080/"
        },
        "id": "4Hzfm8hLVjsf",
        "outputId": "a6a85fbd-8fcb-4b81-cfca-292c0e8d2ce8"
      },
      "execution_count": 30,
      "outputs": [
        {
          "output_type": "stream",
          "name": "stdout",
          "text": [
            "<bound method Persona.verDocumento of <__main__.Estudiante object at 0x7fbaea78adc0>>\n"
          ]
        }
      ]
    },
    {
      "cell_type": "code",
      "source": [
        "#Polimorfismo:\n",
        "#Esta es una herramienta que nos permite redefinir metodos que se hereda de una clase principal o una clase padre, es decir que si de una clase heredan 2 \n",
        "#clases mas dnetro de estas subclases puedo modificar el codigo teniendo el mismo nombre dentro de estos metodos pero haciendo diferentes acciones.\n",
        "\n",
        "class Persona:\n",
        "    def __init__(self, nombre):\n",
        "        self.nombre = nombre\n",
        "\n",
        "    def Caminar(self):\n",
        "        pass\n",
        "\n",
        "class Estudiante(Persona):\n",
        "    def Caminar(self):\n",
        "        return \"Todos los dias\"\n",
        "\n",
        "class Empleado(Persona):\n",
        "    def Caminar(self):\n",
        "        return \"No camino\"\n",
        "\n",
        "def verCaminar(persona):\n",
        "    print(persona.Caminar())\n",
        "\n",
        "# Crear objetos de cada clase\n",
        "estudiante = Estudiante(\"Alejandro\")\n",
        "empleado = Empleado(\"Portero\")\n",
        "\n",
        "# Llamamos la función verCaminar con diferentes objetos\n",
        "verCaminar(estudiante)\n",
        "verCaminar(empleado)\n",
        "\n",
        "#Acá vemos un claro ejemplo que con la misma funcion caminar se puede asignar un codigo diferente en los diferentes subclases\n",
        "\n",
        "#https://ellibrodepython.com/polimorfismo-en-programacion\n",
        "\n",
        "\n",
        "\n",
        "\n",
        "\n",
        "\n",
        "\n"
      ],
      "metadata": {
        "id": "pHOrziB69ISO",
        "outputId": "583d8678-8209-4265-d118-8a3e9bdbb91a",
        "colab": {
          "base_uri": "https://localhost:8080/"
        }
      },
      "execution_count": 41,
      "outputs": [
        {
          "output_type": "stream",
          "name": "stdout",
          "text": [
            "Todos los dias\n",
            "No camino\n"
          ]
        }
      ]
    },
    {
      "cell_type": "code",
      "source": [
        "#Herencia\n",
        "\n",
        "#Se da cuando tenemos una clase principal o clase padre y de acá sacamos otras sublclases(Hijas) y estas subclases heredan los comportamientos \n",
        "#comportamientos de la clase principal(padre).\n",
        "\n",
        "#Tomando como base el ejemplo de la profesora en clase.\n",
        "\n",
        "#Clase Padre\n",
        "class Persona:\n",
        "    def __init__(self, nombre, edad):\n",
        "        self.nombre = nombre\n",
        "        self.edad = edad\n",
        "\n",
        "    def Caminar(self):\n",
        "        print(f\"{self.nombre} está caminando.\")\n",
        "\n",
        "#Clase Hija\n",
        "class Adulto(Persona):\n",
        "    def __init__(self, nombre, edad, profesion):\n",
        "        super().__init__(nombre, edad)\n",
        "        self.profesion = profesion\n",
        "\n",
        "    def Correr(self):\n",
        "        print(\"me da pereza correr\")\n",
        "\n",
        "# Creamos objeto de la clase Adulto y llamamos sus métodos\n",
        "mi_nombre = Adulto(\"Alejandro\", 25, \"Estudiante\")\n",
        "print(mi_nombre.nombre)  \n",
        "print(mi_nombre.edad) \n",
        "print(mi_nombre.profesion) \n",
        "mi_nombre.Caminar()  \n",
        "mi_nombre.Correr()  \n",
        "\n",
        "#Como podemos notar la clase hija en este caso la clase adulto, heredo los atributos nombre y edad de la clase padre en este caso la clase persona\n"
      ],
      "metadata": {
        "id": "4q4q_iZ8GTVv",
        "outputId": "28061055-686d-418a-c2ee-c02ba67ca784",
        "colab": {
          "base_uri": "https://localhost:8080/"
        }
      },
      "execution_count": 42,
      "outputs": [
        {
          "output_type": "stream",
          "name": "stdout",
          "text": [
            "Alejandro\n",
            "25\n",
            "Estudiante\n",
            "Alejandro está caminando.\n",
            "me da pereza correr\n"
          ]
        }
      ]
    },
    {
      "cell_type": "code",
      "source": [],
      "metadata": {
        "id": "lnWw-N1UMVYq"
      },
      "execution_count": null,
      "outputs": []
    },
    {
      "cell_type": "code",
      "source": [],
      "metadata": {
        "id": "POey75xu6F3V"
      },
      "execution_count": null,
      "outputs": []
    }
  ]
}