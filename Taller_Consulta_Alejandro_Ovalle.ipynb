{
  "nbformat": 4,
  "nbformat_minor": 0,
  "metadata": {
    "colab": {
      "provenance": [],
      "authorship_tag": "ABX9TyNNZ48+G+97/5gEAlSthnKv",
      "include_colab_link": true
    },
    "kernelspec": {
      "name": "python3",
      "display_name": "Python 3"
    },
    "language_info": {
      "name": "python"
    }
  },
  "cells": [
    {
      "cell_type": "markdown",
      "metadata": {
        "id": "view-in-github",
        "colab_type": "text"
      },
      "source": [
        "<a href=\"https://colab.research.google.com/github/Alejandr0valle/info2/blob/main/Taller_Consulta_Alejandro_Ovalle.ipynb\" target=\"_parent\"><img src=\"https://colab.research.google.com/assets/colab-badge.svg\" alt=\"Open In Colab\"/></a>"
      ]
    },
    {
      "cell_type": "code",
      "execution_count": null,
      "metadata": {
        "colab": {
          "base_uri": "https://localhost:8080/"
        },
        "id": "MMoMIh3QykPf",
        "outputId": "b56f7ebb-b266-4a9f-80a5-dde6ad1e4446"
      },
      "outputs": [
        {
          "output_type": "stream",
          "name": "stdout",
          "text": [
            "Alejandro Estudiante\n"
          ]
        }
      ],
      "source": [
        "#Abstracción:\n",
        "#Es una herramienta que nos permite crear una clase de cualquier cosa en general, para luego poder separar en subclases que son mas especificas en donde\n",
        "#hay caracteristicas especificas que describen las subclases, estos los llamamos metodos y atributos.\n",
        "\n",
        "#Ejemplo\n",
        "class Persona:\n",
        "  def __init__(self, nombre, ocupacion):\n",
        "    self.nombre = nombre\n",
        "    self.ocupacion = ocupacion\n",
        "\n",
        "  def verInformacion(self):\n",
        "    print(self.nombre, self.ocupacion)\n",
        "class Estudiante(Persona):\n",
        "  def __init__(self, nombre, carrera):\n",
        "    Persona.__init__(self, nombre, carrera )\n",
        "\n",
        "e = Estudiante(\"Alejandro\",\"Estudiante\")\n",
        "e.verInformacion()\n",
        "\n",
        "\n",
        "\n",
        "\n",
        "\n",
        "\n",
        "\n",
        "\n",
        "\n",
        "\n",
        "#Encapsulamiento: Lo puedes utilizar cuando deseas que ciertos métodos o propiedades sean inviolables o inalterables.\n",
        "#Un ejemplo del encapsulamiento podría ser una cuenta de banco, donde el usuario no puede simplemente aumentar su balance de dinero, \n",
        "#si no que debe depender de unos métodos previamente validados para aumentar dicho balance (depósitos, transferencias, etc).\n",
        "\n",
        "#Herencia: Nos permite crear nuevas clases a partir de otras. Si tuviéramos una clase “Autos” y quisiéramos crear unas clases \n",
        "#“Auto deportivo” o “Auto clásico”, podríamos tomar varias propiedades y métodos de la clase “Autos”. Esto nos da una jerarquía de padre e hijo.\n",
        "\n",
        "#Polimorfismo: Proviene de Poli = muchas, morfismo = formas. Se utiliza para crear métodos con el mismo nombre pero con diferente comportamiento.\n",
        "\n",
        "\n",
        "\n"
      ]
    },
    {
      "cell_type": "code",
      "source": [
        "#Encapsulamiento: Lo puedes utilizar cuando deseas que ciertos métodos o propiedades sean inviolables o inalterables.\n"
      ],
      "metadata": {
        "id": "4Hzfm8hLVjsf"
      },
      "execution_count": 1,
      "outputs": []
    }
  ]
}