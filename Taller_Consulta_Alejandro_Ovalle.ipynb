{
  "nbformat": 4,
  "nbformat_minor": 0,
  "metadata": {
    "colab": {
      "provenance": [],
      "authorship_tag": "ABX9TyOwOciQ8bsdJqU7B0cpr0xM",
      "include_colab_link": true
    },
    "kernelspec": {
      "name": "python3",
      "display_name": "Python 3"
    },
    "language_info": {
      "name": "python"
    }
  },
  "cells": [
    {
      "cell_type": "markdown",
      "metadata": {
        "id": "view-in-github",
        "colab_type": "text"
      },
      "source": [
        "<a href=\"https://colab.research.google.com/github/Alejandr0valle/info2/blob/main/Taller_Consulta_Alejandro_Ovalle.ipynb\" target=\"_parent\"><img src=\"https://colab.research.google.com/assets/colab-badge.svg\" alt=\"Open In Colab\"/></a>"
      ]
    },
    {
      "cell_type": "code",
      "source": [
        "#Alejandro Ovalle Vanegas\n",
        "#Cedula : 1216722460"
      ],
      "metadata": {
        "id": "VePWNGdODyO6"
      },
      "execution_count": null,
      "outputs": []
    },
    {
      "cell_type": "code",
      "execution_count": null,
      "metadata": {
        "colab": {
          "base_uri": "https://localhost:8080/"
        },
        "id": "MMoMIh3QykPf",
        "outputId": "030dc193-d9af-493f-bc16-746fa4dab498"
      },
      "outputs": [
        {
          "output_type": "stream",
          "name": "stdout",
          "text": [
            "Alejandro Estudiante 1216722460\n"
          ]
        }
      ],
      "source": [
        "#Abstracción:\n",
        "#Es una herramienta que nos permite crear una clase de cualquier cosa en general, para luego poder separar en subclases que son mas especificas en donde\n",
        "#hay caracteristicas especificas que describen las subclases, estos los llamamos metodos y atributos.\n",
        "\n",
        "#Ejemplo\n",
        "class Persona:\n",
        "  def __init__(self, nombre, ocupacion, documento):\n",
        "    self.nombre = nombre\n",
        "    self.ocupacion = ocupacion\n",
        "    self.documento = int(documento)\n",
        "\n",
        "  def verInformacion(self):\n",
        "    print(self.nombre, self.ocupacion , self.documento)\n",
        "\n",
        "\n",
        "class Estudiante(Persona):\n",
        "  def __init__(self, nombre, carrera, documento):\n",
        "    Persona.__init__(self, nombre, carrera , documento )\n",
        "\n",
        "e = Estudiante(\"Alejandro\",\"Estudiante\" , 1216722460)\n",
        "e.verInformacion()\n",
        "\n",
        "\n",
        "#Esto lo podemos aplicar en diferentes areas ya sea para definir las funciones de un grupo selecto de personas, como también las de una persona en\n",
        "#especifico\n",
        "\n",
        "#https://styde.net/abstraccion-programacion-orientada-a-objetos/\n",
        "\n",
        "\n"
      ]
    },
    {
      "cell_type": "code",
      "source": [
        "#Encapsulamiento:\n",
        "#Esto nos ayuda a regular el acceso a los metodos y atributos de las clases que se vana  definir ya sea para modificar o verlos sencillamente, \n",
        "#es decir que privatizar la complejidad de una clase esto nos puede ayudar a ocultar informacion relevante. Para aplicar esta herramiento se\n",
        "#usa 1 solo guion bajo que es para proteger y 2 guiones bajor que es para colocar privado\n",
        "\n",
        "\n",
        "class Persona:\n",
        "  def __init__(self, nombre, ocupacion, documento):\n",
        "    self.nombre = nombre\n",
        "    self.ocupacion = ocupacion\n",
        "    self.__documento = int(documento)\n",
        "\n",
        "  def verInformacion(self):\n",
        "    print(self.nombre, self.ocupacion , self.__documento)\n",
        "\n",
        "  def verDocumento(self):\n",
        "    return self.__documento \n",
        "\n",
        "\n",
        "class Estudiante(Persona):\n",
        "  def __init__(self, nombre, carrera, documento):\n",
        "    Persona.__init__(self, nombre, carrera , documento )\n",
        "\n",
        "e = Estudiante(\"Alejandro\",\"Estudiante\" , 1216722460)\n",
        "print(e.verDocumento)\n",
        "\n",
        "#Como en este caso podemos ver cuando hacemos un print para ver el documento y al estar esta variable protegida nos saldra un error. Pero\n",
        "#si creamos otra funcion para llamar el documento privado nos permite verla\n",
        "\n",
        "#https://docs.hektorprofe.net/python/programacion-orientada-a-objetos/encapsulacion/#:~:text=La%20encapsulaci%C3%B3n%20consiste%20en%20denegar,indicando%20que%20son%20%22especiales%22."
      ],
      "metadata": {
        "colab": {
          "base_uri": "https://localhost:8080/"
        },
        "id": "4Hzfm8hLVjsf",
        "outputId": "a6a85fbd-8fcb-4b81-cfca-292c0e8d2ce8"
      },
      "execution_count": null,
      "outputs": [
        {
          "output_type": "stream",
          "name": "stdout",
          "text": [
            "<bound method Persona.verDocumento of <__main__.Estudiante object at 0x7fbaea78adc0>>\n"
          ]
        }
      ]
    },
    {
      "cell_type": "code",
      "source": [
        "#Polimorfismo:\n",
        "#Esta es una herramienta que nos permite redefinir metodos que se hereda de una clase principal o una clase padre, es decir que si de una clase heredan 2 \n",
        "#clases mas dnetro de estas subclases puedo modificar el codigo teniendo el mismo nombre dentro de estos metodos pero haciendo diferentes acciones.\n",
        "\n",
        "class Persona:\n",
        "    def __init__(self, nombre):\n",
        "        self.nombre = nombre\n",
        "\n",
        "    def Caminar(self):\n",
        "        pass\n",
        "\n",
        "class Estudiante(Persona):\n",
        "    def Caminar(self):\n",
        "        return \"Todos los dias\"\n",
        "\n",
        "class Empleado(Persona):\n",
        "    def Caminar(self):\n",
        "        return \"No camino\"\n",
        "\n",
        "def verCaminar(persona):\n",
        "    print(persona.Caminar())\n",
        "\n",
        "# Crear objetos de cada clase\n",
        "estudiante = Estudiante(\"Alejandro\")\n",
        "empleado = Empleado(\"Portero\")\n",
        "\n",
        "# Llamamos la función verCaminar con diferentes objetos\n",
        "verCaminar(estudiante)\n",
        "verCaminar(empleado)\n",
        "\n",
        "#Acá vemos un claro ejemplo que con la misma funcion caminar se puede asignar un codigo diferente en los diferentes subclases\n",
        "\n",
        "#https://ellibrodepython.com/polimorfismo-en-programacion\n",
        "\n",
        "\n",
        "\n",
        "\n",
        "\n",
        "\n",
        "\n"
      ],
      "metadata": {
        "id": "pHOrziB69ISO",
        "outputId": "583d8678-8209-4265-d118-8a3e9bdbb91a",
        "colab": {
          "base_uri": "https://localhost:8080/"
        }
      },
      "execution_count": null,
      "outputs": [
        {
          "output_type": "stream",
          "name": "stdout",
          "text": [
            "Todos los dias\n",
            "No camino\n"
          ]
        }
      ]
    },
    {
      "cell_type": "code",
      "source": [
        "#Herencia\n",
        "\n",
        "#Se da cuando tenemos una clase principal o clase padre y de acá sacamos otras sublclases(Hijas) y estas subclases heredan los comportamientos \n",
        "#comportamientos de la clase principal(padre).\n",
        "\n",
        "#Tomando como base el ejemplo de la profesora en clase.\n",
        "\n",
        "#Clase Padre\n",
        "class Persona:\n",
        "    def __init__(self, nombre, edad):\n",
        "        self.nombre = nombre\n",
        "        self.edad = edad\n",
        "\n",
        "    def Caminar(self):\n",
        "        print(f\"{self.nombre} está caminando.\")\n",
        "\n",
        "#Clase Hija\n",
        "class Adulto(Persona):\n",
        "    def __init__(self, nombre, edad, profesion):\n",
        "        super().__init__(nombre, edad)\n",
        "        self.profesion = profesion\n",
        "\n",
        "    def Correr(self):\n",
        "        print(\"me da pereza correr\")\n",
        "\n",
        "# Creamos objeto de la clase Adulto y llamamos sus métodos\n",
        "mi_nombre = Adulto(\"Alejandro\", 25, \"Estudiante\")\n",
        "print(mi_nombre.nombre)  \n",
        "print(mi_nombre.edad) \n",
        "print(mi_nombre.profesion) \n",
        "mi_nombre.Caminar()  \n",
        "mi_nombre.Correr()  \n",
        "\n",
        "#Como podemos notar la clase hija en este caso la clase adulto, heredo los atributos nombre y edad de la clase padre en este caso la clase persona\n",
        "\n",
        "#https://ellibrodepython.com/herencia-en-python\n",
        "\n"
      ],
      "metadata": {
        "id": "4q4q_iZ8GTVv",
        "outputId": "28061055-686d-418a-c2ee-c02ba67ca784",
        "colab": {
          "base_uri": "https://localhost:8080/"
        }
      },
      "execution_count": null,
      "outputs": [
        {
          "output_type": "stream",
          "name": "stdout",
          "text": [
            "Alejandro\n",
            "25\n",
            "Estudiante\n",
            "Alejandro está caminando.\n",
            "me da pereza correr\n"
          ]
        }
      ]
    },
    {
      "cell_type": "code",
      "source": [
        "#Modularidad en la programación:\n",
        "#Dice que  dividir un codigo en partes más pequeñas se hace mas manejables y estas partes son llamadas módulos. \n",
        "#Cada parte tiene una funcion y debe ser lo más independiente posible de las otras partes o mejor dicho módulos.\n",
        "\n",
        "#Esta es una técnica bastante importante ya que da la posibilidad del mantenimiento a largo plazo de grandes aplicaciones.\n",
        "#aportanto a que si un módulo falla, el resto del codigo siga funcionando sin problemas y por lo tanto solo se deba corregir el modulo \n",
        "#o la parte que falla.\n",
        "\n",
        "#https://styde.net/modularidad-en-la-programacion-orientada-a-objetos/"
      ],
      "metadata": {
        "id": "uelCMpMB3_BD"
      },
      "execution_count": null,
      "outputs": []
    },
    {
      "cell_type": "code",
      "source": [
        "#Comparacion python vs PHP\n",
        "\n",
        "#objeto en python\n",
        "\n",
        "class Persona:\n",
        "  def __init__(self, nombre, edad, ciudad):\n",
        "    self.nombre = nombre\n",
        "    self.edad = edad\n",
        "    self.ciudad = ciudad\n",
        "\n",
        "persona = Persona(\"Alejandro\", 26, \"Medellín\")\n",
        "\n",
        "#objeto en PHP\n",
        "#class Persona {\n",
        "    #public $nombre;\n",
        "    #public $edad;\n",
        "\n",
        "    #public function saludar() {\n",
        "        #echo \"Hola, mi nombre es \" . $this->nombre . \" y tengo \" . $this->edad . \" años.\";\n",
        "    \n",
        "#$persona1 = new Persona();\n",
        "#$persona1->nombre = \"Aleajandro\";\n",
        "#$persona1->edad = 25;\n",
        "#$persona1->saludar(); // Imprime \"Hola, mi nombre es Alejandro y tengo 25 años.\"\n",
        "\n",
        "#Desde mi perspectiva me parece mucho mas facil la creacion de objetos en python ya que no hay que agregar ninguna palabra clave que este caso seria\n",
        "#\"new\" en PHP tambiíen por la parte de los simbolos se hace mas tedioso el PHP por lo que en este sentido es micho mas facil el pyhton para crear los atributos\n",
        "#En resumen me parece mucho mas practico, facil y como python desde mi punto de vista porque minimiza visualmente las palabras clases y simbolos que se deben usar.\n",
        "\n",
        "\n",
        "\n"
      ],
      "metadata": {
        "id": "lnWw-N1UMVYq"
      },
      "execution_count": null,
      "outputs": []
    },
    {
      "cell_type": "code",
      "source": [
        "#Atributos y metodos\n",
        "\n",
        "#Los atributos son variables en donde podemos colocar caracteristicas, datos, informacion de un objeto\n",
        "\n",
        "#Los metodos son acciones o funciones que pueden ejecutar un objeto \n",
        "\n",
        "#Ejemplo\n",
        "\n",
        "class Persona():\n",
        "  def __init__(self, Nombre, Edad):\n",
        "    self.nombre= Nombre\n",
        "    self.edad = int(Edad)      #Atributo, es una caracterisca de una persona tener un nombre y edad\n",
        "\n",
        "  def Presentarse(self):       #Este es el metodo que es la accion de presentarse\n",
        "    print(\"Mi nombre es \" + self.nombre + \" Y tengo \" + str(self.edad) + \" años\")\n",
        "    \n",
        "a=Persona(\"Alejandro\", 25)\n",
        "a.Presentarse()\n",
        "\n",
        "\n"
      ],
      "metadata": {
        "colab": {
          "base_uri": "https://localhost:8080/"
        },
        "id": "NZV8lZQb_mPi",
        "outputId": "e6b8bfe7-9ba4-4678-fa31-12958f8c0f6e"
      },
      "execution_count": 9,
      "outputs": [
        {
          "output_type": "stream",
          "name": "stdout",
          "text": [
            "Mi nombre es Alejandro Y tengo 25 años\n"
          ]
        }
      ]
    },
    {
      "cell_type": "code",
      "source": [],
      "metadata": {
        "id": "POey75xu6F3V"
      },
      "execution_count": null,
      "outputs": []
    }
  ]
}