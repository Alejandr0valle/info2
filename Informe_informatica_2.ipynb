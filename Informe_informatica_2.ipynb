{
  "nbformat": 4,
  "nbformat_minor": 0,
  "metadata": {
    "colab": {
      "provenance": [],
      "include_colab_link": true
    },
    "kernelspec": {
      "name": "python3",
      "display_name": "Python 3"
    },
    "language_info": {
      "name": "python"
    }
  },
  "cells": [
    {
      "cell_type": "markdown",
      "metadata": {
        "id": "view-in-github",
        "colab_type": "text"
      },
      "source": [
        "<a href=\"https://colab.research.google.com/github/Alejandr0valle/info2/blob/main/Informe_informatica_2.ipynb\" target=\"_parent\"><img src=\"https://colab.research.google.com/assets/colab-badge.svg\" alt=\"Open In Colab\"/></a>"
      ]
    },
    {
      "cell_type": "markdown",
      "source": [
        "# **Preinforme de trabajo #1**\n",
        "25/02/2023\n",
        "\n",
        "## Integrantes:\n",
        "*   Alejandro Ovalle Vanegas - Alejandro.ovalle@udea.edu.co\n"
      ],
      "metadata": {
        "id": "YsG-FBquCklc"
      }
    },
    {
      "cell_type": "markdown",
      "source": [
        "## **Punto 1-Abstracción**\n",
        "\n",
        "Consulte cuáles son los pilares de la programación orientada a objetos, defínalos en sus palabras y realice un ejemplo práctico para cada uno, comentando en qué parte se aplican. Los pilares básicos son: Abstracción, Herencia, Polimorfismo y Encapsulamiento, aunque en algunos sitios reportan más.\n",
        "\n",
        "\n",
        "**Solución:**\n",
        "Abstracción:\n",
        "Es una herramienta que nos permite crear una clase de cualquier cosa en general, para luego poder separar en subclases que son mas especificas en donde\n",
        "hay caracteristicas especificas que describen las subclases, estos los llamamos metodos y atributos.\n",
        "\n",
        "\n",
        "Esto lo podemos aplicar en diferentes areas ya sea para definir las funciones de un grupo selecto de personas, como también las de una persona en\n",
        "especifico\n",
        "\n",
        "**Bibliografia:** https://styde.net/abstraccion-programacion-orientada-a-objetos/\n"
      ],
      "metadata": {
        "id": "mDEPqNcxC84-"
      }
    },
    {
      "cell_type": "code",
      "execution_count": 1,
      "metadata": {
        "id": "Xf9Fpds6CiAZ",
        "colab": {
          "base_uri": "https://localhost:8080/"
        },
        "outputId": "e0164ca8-cc2b-42ba-9405-d9db226a328f"
      },
      "outputs": [
        {
          "output_type": "stream",
          "name": "stdout",
          "text": [
            "Alejandro Estudiante 1216722460\n"
          ]
        }
      ],
      "source": [
        "class Persona:\n",
        "  def __init__(self, nombre, ocupacion, documento):\n",
        "    self.nombre = nombre\n",
        "    self.ocupacion = ocupacion\n",
        "    self.documento = int(documento)\n",
        "\n",
        "  def verInformacion(self):\n",
        "    print(self.nombre, self.ocupacion , self.documento)\n",
        "\n",
        "\n",
        "class Estudiante(Persona):\n",
        "  def __init__(self, nombre, carrera, documento):\n",
        "    Persona.__init__(self, nombre, carrera , documento )\n",
        "\n",
        "e = Estudiante(\"Alejandro\",\"Estudiante\" , 1216722460)\n",
        "e.verInformacion()"
      ]
    },
    {
      "cell_type": "markdown",
      "source": [
        "## **Punto 1-Encapsulamiento** \n",
        "\n",
        "**Solución:**\n",
        "\n",
        "Encapsulamiento:\n",
        "Esto nos ayuda a regular el acceso a los metodos y atributos de las clases que se vana  definir ya sea para modificar o verlos sencillamente, \n",
        "es decir que privatizar la complejidad de una clase esto nos puede ayudar a ocultar informacion relevante. Para aplicar esta herramiento se\n",
        "usa un solo guion bajo que es para proteger y 2 guiones bajor que es para colocar privado\n",
        "\n",
        "Como en este caso podemos ver cuando hacemos un print para ver el documento y al estar esta variable protegida nos saldra un error. Pero\n",
        "si creamos otra funcion para llamar el documento privado nos permite verla\n",
        "\n",
        "**Bibliografia** https://docs.hektorprofe.net/python/programacion-orientada-a-objetos/encapsulacion/#:~:text=La%20encapsulaci%C3%B3n%20consiste%20en%20denegar,indicando%20que%20son%20%22especiales%22."
      ],
      "metadata": {
        "id": "T8TGYG9zDQ0_"
      }
    },
    {
      "cell_type": "code",
      "execution_count": null,
      "metadata": {
        "id": "WXtt69nHDQ0_"
      },
      "outputs": [],
      "source": [
        "class Persona:\n",
        "  def __init__(self, nombre, ocupacion, documento):\n",
        "    self.nombre = nombre\n",
        "    self.ocupacion = ocupacion\n",
        "    self.__documento = int(documento)\n",
        "\n",
        "  def verInformacion(self):\n",
        "    print(self.nombre, self.ocupacion , self.__documento)\n",
        "\n",
        "  def verDocumento(self):\n",
        "    return self.__documento \n",
        "\n",
        "\n",
        "class Estudiante(Persona):\n",
        "  def __init__(self, nombre, carrera, documento):\n",
        "    Persona.__init__(self, nombre, carrera , documento )\n",
        "\n",
        "e = Estudiante(\"Alejandro\",\"Estudiante\" , 1216722460)\n",
        "print(e.verDocumento)"
      ]
    },
    {
      "cell_type": "markdown",
      "source": [
        "## **Punto 1-Polimorfismo**\n",
        "\n",
        "**Solución:**\n",
        "\n",
        "Esta es una herramienta que nos permite redefinir metodos que se hereda de una clase principal o una clase padre, es decir que si de una clase heredan 2 \n",
        "clases mas dnetro de estas subclases puedo modificar el codigo teniendo el mismo nombre dentro de estos metodos pero haciendo diferentes acciones.\n",
        "\n",
        "vemos un claro ejemplo que con la misma funcion caminar se puede asignar un codigo diferente en los diferentes subclases\n",
        "\n",
        "https://ellibrodepython.com/polimorfismo-en-programacion\n"
      ],
      "metadata": {
        "id": "aDmFvkQ7FoQ6"
      }
    },
    {
      "cell_type": "code",
      "source": [
        "class Persona:\n",
        "    def __init__(self, nombre):\n",
        "        self.nombre = nombre\n",
        "\n",
        "    def Caminar(self):\n",
        "        pass\n",
        "\n",
        "class Estudiante(Persona):\n",
        "    def Caminar(self):\n",
        "        return \"Todos los dias\"\n",
        "\n",
        "class Empleado(Persona):\n",
        "    def Caminar(self):\n",
        "        return \"No camino\"\n",
        "\n",
        "def verCaminar(persona):\n",
        "    print(persona.Caminar())\n",
        "\n",
        "# Crear objetos de cada clase\n",
        "estudiante = Estudiante(\"Alejandro\")\n",
        "empleado = Empleado(\"Portero\")\n",
        "\n",
        "# Llamamos la función verCaminar con diferentes objetos\n",
        "verCaminar(estudiante)\n",
        "verCaminar(empleado)"
      ],
      "metadata": {
        "id": "HOV01q6RH-Pj"
      },
      "execution_count": null,
      "outputs": []
    },
    {
      "cell_type": "markdown",
      "source": [
        "## **Punto 1-Herencia** \n",
        "\n",
        "**Solución:**\n",
        "Se da cuando tenemos una clase principal o clase padre y de acá sacamos otras sublclases(Hijas) y estas subclases heredan los comportamientos \n",
        "comportamientos de la clase principal(padre).\n",
        "\n",
        "Tomando como base el ejemplo de la profesora en clase.\n",
        "\n",
        "Como podemos notar la clase hija en este caso la clase adulto, heredo los atributos nombre y edad de la clase padre en este caso la clase persona\n",
        "\n",
        "https://ellibrodepython.com/herencia-en-python"
      ],
      "metadata": {
        "id": "wGdv2RhPIDqr"
      }
    },
    {
      "cell_type": "code",
      "source": [
        "\n",
        "#Clase Padre\n",
        "class Persona:\n",
        "    def __init__(self, nombre, edad):\n",
        "        self.nombre = nombre\n",
        "        self.edad = edad\n",
        "\n",
        "    def Caminar(self):\n",
        "        print(f\"{self.nombre} está caminando.\")\n",
        "\n",
        "#Clase Hija\n",
        "class Adulto(Persona):\n",
        "    def __init__(self, nombre, edad, profesion):\n",
        "        super().__init__(nombre, edad)\n",
        "        self.profesion = profesion\n",
        "\n",
        "    def Correr(self):\n",
        "        print(\"me da pereza correr\")\n",
        "\n",
        "# Creamos objeto de la clase Adulto y llamamos sus métodos\n",
        "mi_nombre = Adulto(\"Alejandro\", 25, \"Estudiante\")\n",
        "print(mi_nombre.nombre)  \n",
        "print(mi_nombre.edad) \n",
        "print(mi_nombre.profesion) \n",
        "mi_nombre.Caminar()  \n",
        "mi_nombre.Correr()  "
      ],
      "metadata": {
        "id": "JjNN5INPFpky"
      },
      "execution_count": null,
      "outputs": []
    },
    {
      "cell_type": "markdown",
      "source": [
        "## **Punto 2-Modularidad en la programación** \n",
        "Consulte qué es la modularidad en la programación y cómo ayuda esto al mantenimiento a largo plazo de grandes aplicaciones.\n",
        "\n",
        "**Solución:**Dice que  dividir un codigo en partes más pequeñas se hace mas manejables y estas partes son llamadas módulos. \n",
        "Cada parte tiene una funcion y debe ser lo más independiente posible de las otras partes o mejor dicho módulos.\n",
        "\n",
        "Esta es una técnica bastante importante ya que da la posibilidad del mantenimiento a largo plazo de grandes aplicaciones.\n",
        "aportanto a que si un módulo falla, el resto del codigo siga funcionando sin problemas y por lo tanto solo se deba corregir el modulo \n",
        "o la parte que falla.\n",
        "\n",
        "https://styde.net/modularidad-en-la-programacion-orientada-a-objetos/\n"
      ],
      "metadata": {
        "id": "OewaMVXrIcRj"
      }
    },
    {
      "cell_type": "markdown",
      "source": [
        "## **Punto 3-Comparación**\n",
        "Consulte cómo son los objetos en otro lenguaje (PHP, Java, C++, Javascript, etc), y compare su sintaxis y construcción con los objetos de Python. Elija SÓLO UN LENGUAJE. Describa en sus palabras cuál le parece más práctico, fácil y cómodo.\n",
        "\n",
        "**Solución:**\n",
        "Desde mi perspectiva me parece mucho mas facil la creacion de objetos en python ya que no hay que agregar ninguna palabra clave que este caso seria\n",
        "\"new\" en PHP tambiíen por la parte de los simbolos se hace mas tedioso el PHP por lo que en este sentido es micho mas facil el pyhton para crear los atributos\n",
        "En resumen me parece mucho mas practico, facil y como python desde mi punto de vista porque minimiza visualmente las palabras clases y simbolos que se deben usar.\n",
        "\n",
        "https://code.tutsplus.com/es/tutorials/basics-of-object-oriented-programming-in-php--cms-31910"
      ],
      "metadata": {
        "id": "IN7CN57lI-RM"
      }
    },
    {
      "cell_type": "code",
      "source": [
        "#Comparacion python vs PHP\n",
        "\n",
        "#objeto en python\n",
        "\n",
        "class Persona:\n",
        "  def __init__(self, nombre, edad, ciudad):\n",
        "    self.nombre = nombre\n",
        "    self.edad = edad\n",
        "    self.ciudad = ciudad\n",
        "\n",
        "persona = Persona(\"Alejandro\", 26, \"Medellín\")\n",
        "\n",
        "#objeto en PHP\n",
        "#class Persona {\n",
        "    #public $nombre;\n",
        "    #public $edad;\n",
        "\n",
        "    #public function saludar() {\n",
        "        #echo \"Hola, mi nombre es \" . $this->nombre . \" y tengo \" . $this->edad . \" años.\";\n",
        "    \n",
        "#$persona1 = new Persona();\n",
        "#$persona1->nombre = \"Alejandro\";\n",
        "#$persona1->edad = 25;\n",
        "#$persona1->saludar(); // Imprime \"Hola, mi nombre es Alejandro y tengo 25 años.\""
      ],
      "metadata": {
        "id": "DWdmoFJSJjqs"
      },
      "execution_count": null,
      "outputs": []
    },
    {
      "cell_type": "markdown",
      "source": [
        "## **Punto 4-Atributos y metodos** \n",
        "Explique en sus palabras qué son los atributos y qué son los métodos dentro de un objeto. Realice un ejemplo práctico en donde comente cuál es cuál.\n",
        "\n",
        "\n",
        "**Solución:**\n",
        "\n",
        "**Los atributos** son variables en donde podemos colocar caracteristicas, datos, informacion de un objeto.\n",
        "\n",
        "**Los metodos** son acciones o funciones que pueden ejecutar un objeto \n",
        "\n",
        "https://docs.hektorprofe.net/python/programacion-orientada-a-objetos/atributos-y-metodos/"
      ],
      "metadata": {
        "id": "M7UJUkM4KHaU"
      }
    },
    {
      "cell_type": "code",
      "source": [
        "#Ejemplo\n",
        "\n",
        "class Persona():\n",
        "  def __init__(self, Nombre, Edad):\n",
        "    self.nombre= Nombre\n",
        "    self.edad = int(Edad)      #Atributo, es una caracterisca de una persona tener un nombre y edad\n",
        "\n",
        "  def Presentarse(self):       #Este es el metodo que es la accion de presentarse\n",
        "    print(\"Mi nombre es \" + self.nombre + \" Y tengo \" + str(self.edad) + \" años\")\n",
        "    \n",
        "a=Persona(\"Alejandro\", 25)\n",
        "a.Presentarse()"
      ],
      "metadata": {
        "colab": {
          "base_uri": "https://localhost:8080/"
        },
        "id": "C2-wYiGVKkJc",
        "outputId": "a32cd947-cd11-4fea-bdd7-5e86a13e5616"
      },
      "execution_count": 2,
      "outputs": [
        {
          "output_type": "stream",
          "name": "stdout",
          "text": [
            "Mi nombre es Alejandro Y tengo 25 años\n"
          ]
        }
      ]
    }
  ]
}