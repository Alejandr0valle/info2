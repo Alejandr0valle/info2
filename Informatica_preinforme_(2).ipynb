{
  "nbformat": 4,
  "nbformat_minor": 0,
  "metadata": {
    "colab": {
      "provenance": [],
      "include_colab_link": true
    },
    "kernelspec": {
      "name": "python3",
      "display_name": "Python 3"
    },
    "language_info": {
      "name": "python"
    }
  },
  "cells": [
    {
      "cell_type": "markdown",
      "metadata": {
        "id": "view-in-github",
        "colab_type": "text"
      },
      "source": [
        "<a href=\"https://colab.research.google.com/github/Alejandr0valle/info2/blob/main/Informatica_preinforme_(2).ipynb\" target=\"_parent\"><img src=\"https://colab.research.google.com/assets/colab-badge.svg\" alt=\"Open In Colab\"/></a>"
      ]
    },
    {
      "cell_type": "markdown",
      "source": [
        "# **Preinforme de trabajo #2**\n",
        "\n",
        "\n",
        "26/03/2023\n",
        "\n",
        "## Integrantes:\n",
        "*   Alejandro Ovalle Vanegas - Alejandro.ovalle@udea.edu.co\n",
        " "
      ],
      "metadata": {
        "id": "YsG-FBquCklc"
      }
    },
    {
      "cell_type": "markdown",
      "source": [
        "## **Punto 1**\n",
        "\n",
        "Consulte el qué es Numpy y qué es Pandas, defina en sus palabras qué aplicaciones pueden tener estas librerías para Bioingeniería.\n",
        "\n",
        "**Solución:**\n",
        "\n",
        "\n",
        "Numpy y Pandas son dos librerías muy utilizadas en el análisis de datos y la programación científica en Python. Numpy proporciona funciones para trabajar con arrays y matrices multidimensionales, lo cual es útil para procesamiento de señales biológicas, como señales de electroencefalogramas (EEG). Pandas, por otro lado, es una librería de análisis de datos que proporciona estructuras de datos flexibles y eficientes para manipular y analizar datos en Python, y puede ser utilizado para el análisis de datos biomédicos y de bioingeniería.\n",
        "\n",
        "**Referencias**\n",
        "\n",
        "https://numpy.org/\n",
        "\n",
        "https://pandas.pydata.org/"
      ],
      "metadata": {
        "id": "mDEPqNcxC84-"
      }
    },
    {
      "cell_type": "code",
      "execution_count": null,
      "metadata": {
        "id": "Xf9Fpds6CiAZ"
      },
      "outputs": [],
      "source": [
        "#Espacio para escribir código en caso de ser solicitado"
      ]
    },
    {
      "cell_type": "markdown",
      "source": [
        "## **Punto 2**\n",
        "\n",
        "Consulte cómo importar un set de datos desde Kaggle.com directamente a Collab y explique paso a paso cómo se hace.\n",
        "\n",
        "**Solución:**\n",
        "\n",
        "Para importar un set de datos desde Kaggle.com directamente a Collab, primero se debe tener una cuenta en Kaggle y haber creado un archivo API key. Luego, se debe abrir un nuevo notebook en Colab y ejecutar los siguientes comandos:\n",
        "\n",
        "**Referencias**\n",
        "\n",
        "https://www.kaggle.com/general/74235"
      ],
      "metadata": {
        "id": "T8TGYG9zDQ0_"
      }
    },
    {
      "cell_type": "code",
      "execution_count": null,
      "metadata": {
        "id": "WXtt69nHDQ0_"
      },
      "outputs": [],
      "source": [
        "\n",
        "!pip install kaggle\n",
        "!mkdir ~/.kaggle\n",
        "!cp /path/to/kaggle.json ~/.kaggle/\n",
        "!chmod 600 ~/.kaggle/kaggle.json\n",
        "!kaggle datasets download -d dataset_name\n",
        "\n",
        "#Donde \"dataset_name\" es el nombre del set de datos que se desea descargar. \n",
        "#Una vez descargado, se puede descomprimir y utilizar como cualquier otro archivo de datos en Colab.\n"
      ]
    },
    {
      "cell_type": "markdown",
      "source": [
        "## **Punto 3**\n",
        "\n",
        "Consulte cómo guardar y cargar datos en formato .npy (formato de guardado de Numpy), y realice un ejemplo práctico con ello.\n",
        "\n",
        "**Solución:**\n",
        "\n",
        "Para guardar y cargar datos en formato .npy (formato de guardado de Numpy), se puede utilizar las funciones np.save() y np.load(), respectivamente. Por ejemplo, para guardar un array en formato .npy se puede hacer lo siguiente:\n",
        "\n",
        "**Referencias**\n",
        "\n",
        "https://numpy.org/doc/stable/reference/generated/numpy.save.html\n",
        "https://numpy.org/doc/stable/reference/generated/numpy.load.html"
      ],
      "metadata": {
        "id": "8qxET5jjZWLs"
      }
    },
    {
      "cell_type": "code",
      "source": [
        "import numpy as np\n",
        "arr = np.array([1, 2, 3])\n",
        "np.save('arr.npy', arr)\n",
        "\n",
        "#Para cargar el archivo guardado\n",
        "arr_loaded = np.load('arr.npy')\n",
        "\n",
        "print(arr)"
      ],
      "metadata": {
        "colab": {
          "base_uri": "https://localhost:8080/"
        },
        "id": "JbtJ9rqtZYrz",
        "outputId": "8529fe69-37bd-4e4a-c763-ab7397d5b592"
      },
      "execution_count": 6,
      "outputs": [
        {
          "output_type": "stream",
          "name": "stdout",
          "text": [
            "[1 2 3]\n"
          ]
        }
      ]
    },
    {
      "cell_type": "markdown",
      "source": [
        "## **Punto 4**\n",
        "\n",
        "Consulte acerca del procesamiento de datos y defina en sus palabras cuáles son las partes más importantes de este.\n",
        "\n",
        "\n",
        "**Solución:**\n",
        "\n",
        "El procesamiento de datos es una etapa crucial en el análisis de datos y la bioingeniería. Las partes más importantes de este proceso incluyen la limpieza de datos (eliminación de valores faltantes, datos duplicados, etc.), la transformación de datos (escalamiento, normalización, etc.), la selección de características (seleccionar las variables más relevantes para el análisis), y la visualización de datos (crear gráficos para comprender mejor los patrones y relaciones en los datos).\n",
        "\n",
        "**Referencias**\n",
        "\n",
        "https://www.tecnologias-informacion.com/procesamientodatos.html"
      ],
      "metadata": {
        "id": "zxsI-AxFZZUC"
      }
    },
    {
      "cell_type": "code",
      "source": [],
      "metadata": {
        "id": "yo2spkBinR8O"
      },
      "execution_count": 6,
      "outputs": []
    }
  ]
}